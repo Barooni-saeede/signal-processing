{
 "cells": [
  {
   "cell_type": "code",
   "execution_count": null,
   "metadata": {},
   "outputs": [],
   "source": [
    "#Library\n",
    "\n",
    "import mne # برای پردازش سیگنال eeg \n",
    "from ssqueezepy import cwt, imshow  #برای تبدیل فرکانس به عکس / imshow  برای نمایش در قالب عکس\n",
    "from ssqueezepy.experimental import scale_to_freq # تبدیل اسکیل به فرکانس\n",
    "import matplotlib.pyplot as plt\n",
    "import os"
   ]
  },
  {
   "cell_type": "code",
   "execution_count": null,
   "metadata": {},
   "outputs": [],
   "source": [
    "input= '...'"
   ]
  },
  {
   "cell_type": "code",
   "execution_count": null,
   "metadata": {},
   "outputs": [],
   "source": [
    "set_files = [f for f in os.listdir(input) if f.endswith('.set')]"
   ]
  },
  {
   "cell_type": "code",
   "execution_count": null,
   "metadata": {},
   "outputs": [],
   "source": [
    "folder_path='output address'\n",
    "name_chan = ('Fz','Cz','Pz')\n",
    "num_chan=3\n",
    "data_frame = 211\n",
    "signal_length = 1000\n",
    "plt.rcParams['figure.dpi']=100\n",
    "pixel = 1/plt.rcParams['figure.dpi']\n",
    "wavelet = ('morlet',{'mu':5})"
   ]
  },
  {
   "cell_type": "code",
   "execution_count": null,
   "metadata": {},
   "outputs": [],
   "source": [
    "for file_name in set_files: \n",
    "      name_set = os.path.join(input,file_name)\n",
    "      data_h = mne.io.read_raw_eeglab(name_set)\n",
    "      chanel_data = data_h.get_data()\n",
    "\n",
    "      for k in range(num_chan):\n",
    "          index = 0\n",
    "          for i in range(data_frame):\n",
    "             window = chanel_data[k][index+1:index+signal_length]\n",
    "             (wi_data,wi_sc)=cwt(window,wavelet)\n",
    "             convert = scale_to_freq(wi_sc,wavelet,len(window))\n",
    "             pic_data = plt.figure(figsize=(224*pixel,224*pixel))\n",
    "             pic_save = pic_data.add_subplot()\n",
    "             imshow(wi_data,abs=1,yticks=convert,show=0)\n",
    "             pic_save.axis(False)\n",
    "             pic_save.set_position([0,0,1,1])\n",
    "             pic_data.savefig(folder_path+\"{}-{}-{}.jpg\".format(file_name.split('.')[0],name_chan[k],i))\n",
    "             plt.close()\n",
    "             index=index+signal_length"
   ]
  }
 ],
 "metadata": {
  "language_info": {
   "name": "python"
  }
 },
 "nbformat": 4,
 "nbformat_minor": 2
}
